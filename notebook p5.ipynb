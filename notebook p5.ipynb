{
 "cells": [
  {
   "cell_type": "markdown",
   "metadata": {},
   "source": [
    "IMPORTATION DES LIBRAIRIES"
   ]
  },
  {
   "cell_type": "code",
   "execution_count": 2,
   "metadata": {},
   "outputs": [],
   "source": [
    "import pandas as pd\n",
    "import numpy as np\n",
    "import math\n",
    "import matplotlib.pyplot as plt"
   ]
  },
  {
   "cell_type": "markdown",
   "metadata": {},
   "source": [
    "IMPORT DES FICHIERS"
   ]
  },
  {
   "cell_type": "code",
   "execution_count": 3,
   "metadata": {},
   "outputs": [
    {
     "name": "stderr",
     "output_type": "stream",
     "text": [
      "d:\\anaconda3\\lib\\site-packages\\openpyxl\\worksheet\\_read_only.py:79: UserWarning: Unknown extension is not supported and will be removed\n",
      "  for idx, row in parser.parse():\n",
      "d:\\anaconda3\\lib\\site-packages\\openpyxl\\worksheet\\_read_only.py:79: UserWarning: Unknown extension is not supported and will be removed\n",
      "  for idx, row in parser.parse():\n",
      "d:\\anaconda3\\lib\\site-packages\\openpyxl\\worksheet\\_read_only.py:79: UserWarning: Unknown extension is not supported and will be removed\n",
      "  for idx, row in parser.parse():\n"
     ]
    }
   ],
   "source": [
    "df_erp = pd.read_excel('Fichier_erp.xlsx')\n",
    "df_web = pd.read_excel('fichier_web.xlsx')\n",
    "df_liaison = pd.read_excel('fichier_liaison.xlsx')"
   ]
  },
  {
   "cell_type": "code",
   "execution_count": 4,
   "metadata": {},
   "outputs": [],
   "source": [
    "df_web.rename(columns={'sku': 'id_web'}, inplace=True)"
   ]
  },
  {
   "cell_type": "markdown",
   "metadata": {},
   "source": [
    "ON REGARDE SI IL Y A DES VALEURS EN DOUBLE"
   ]
  },
  {
   "cell_type": "code",
   "execution_count": 5,
   "metadata": {},
   "outputs": [
    {
     "name": "stdout",
     "output_type": "stream",
     "text": [
      "[]\n",
      "[nan]\n",
      "1513\n"
     ]
    }
   ],
   "source": [
    "valeurs_en_double = df_erp[df_erp.duplicated('product_id', keep=False)]\n",
    "print(valeurs_en_double['product_id'].unique())\n",
    "valeurs_en_double = df_liaison[df_liaison.duplicated('id_web', keep=False)]\n",
    "print(valeurs_en_double['id_web'].unique())\n",
    "valeurs_en_double = df_web[df_web.duplicated('id_web', keep=False)]\n",
    "print(len(valeurs_en_double['id_web']))"
   ]
  },
  {
   "cell_type": "markdown",
   "metadata": {},
   "source": [
    "Afficher le type de valeur pour chaque colonne"
   ]
  },
  {
   "cell_type": "code",
   "execution_count": 6,
   "metadata": {},
   "outputs": [
    {
     "name": "stdout",
     "output_type": "stream",
     "text": [
      "df erp :\n",
      " product_id          int64\n",
      "onsale_web          int64\n",
      "price             float64\n",
      "stock_quantity      int64\n",
      "stock_status       object\n",
      "dtype: object\n"
     ]
    }
   ],
   "source": [
    "print('df erp :\\n',df_erp.dtypes)"
   ]
  },
  {
   "cell_type": "code",
   "execution_count": 7,
   "metadata": {},
   "outputs": [
    {
     "name": "stdout",
     "output_type": "stream",
     "text": [
      "df liaison :\n",
      " product_id     int64\n",
      "id_web        object\n",
      "dtype: object\n"
     ]
    }
   ],
   "source": [
    "print('df liaison :\\n',df_liaison.dtypes)"
   ]
  },
  {
   "cell_type": "markdown",
   "metadata": {},
   "source": [
    "COLONNE id_web OBJECT, ALORS ON CHERCHE LES VALEURS QUI NE SONT PAS DES INT"
   ]
  },
  {
   "cell_type": "code",
   "execution_count": 8,
   "metadata": {},
   "outputs": [
    {
     "name": "stdout",
     "output_type": "stream",
     "text": [
      "19                     NaN\n",
      "443    bon-cadeau-25-euros\n",
      "822                13127-1\n",
      "823                14680-1\n",
      "Name: id_web, dtype: object\n",
      "1                      NaN\n",
      "196    bon-cadeau-25-euros\n",
      "490                13127-1\n",
      "Name: id_web, dtype: object\n"
     ]
    }
   ],
   "source": [
    "def is_not_int(value):\n",
    "    try:\n",
    "        if value == int(value):\n",
    "            return False\n",
    "    except ValueError:\n",
    "        return True\n",
    "\n",
    "non_int_values = df_liaison[df_liaison['id_web'].apply(is_not_int)]\n",
    "print(non_int_values.drop_duplicates(subset='id_web')['id_web'])\n",
    "non_int_values = df_web[df_web['id_web'].apply(is_not_int)]\n",
    "print(non_int_values.drop_duplicates(subset='id_web')['id_web'])"
   ]
  },
  {
   "cell_type": "code",
   "execution_count": 9,
   "metadata": {},
   "outputs": [
    {
     "name": "stdout",
     "output_type": "stream",
     "text": [
      "df web :\n",
      " id_web                           object\n",
      "virtual                           int64\n",
      "downloadable                      int64\n",
      "rating_count                      int64\n",
      "average_rating                  float64\n",
      "total_sales                     float64\n",
      "tax_status                       object\n",
      "tax_class                       float64\n",
      "post_author                     float64\n",
      "post_date                datetime64[ns]\n",
      "post_date_gmt            datetime64[ns]\n",
      "post_content                    float64\n",
      "post_title                       object\n",
      "post_excerpt                     object\n",
      "post_status                      object\n",
      "comment_status                   object\n",
      "ping_status                      object\n",
      "post_password                   float64\n",
      "post_name                        object\n",
      "post_modified            datetime64[ns]\n",
      "post_modified_gmt        datetime64[ns]\n",
      "post_content_filtered           float64\n",
      "post_parent                     float64\n",
      "guid                             object\n",
      "menu_order                      float64\n",
      "post_type                        object\n",
      "post_mime_type                   object\n",
      "comment_count                   float64\n",
      "dtype: object\n"
     ]
    }
   ],
   "source": [
    "print('df web :\\n',df_web.dtypes)"
   ]
  },
  {
   "cell_type": "markdown",
   "metadata": {},
   "source": [
    "LIAISON DES DATAFRAMES"
   ]
  },
  {
   "cell_type": "code",
   "execution_count": 10,
   "metadata": {},
   "outputs": [
    {
     "name": "stdout",
     "output_type": "stream",
     "text": [
      "product_id        734\n",
      "id_web            734\n",
      "onsale_web        734\n",
      "price             734\n",
      "stock_quantity    734\n",
      "stock_status      734\n",
      "dtype: int64\n"
     ]
    },
    {
     "data": {
      "text/html": [
       "<div>\n",
       "<style scoped>\n",
       "    .dataframe tbody tr th:only-of-type {\n",
       "        vertical-align: middle;\n",
       "    }\n",
       "\n",
       "    .dataframe tbody tr th {\n",
       "        vertical-align: top;\n",
       "    }\n",
       "\n",
       "    .dataframe thead th {\n",
       "        text-align: right;\n",
       "    }\n",
       "</style>\n",
       "<table border=\"1\" class=\"dataframe\">\n",
       "  <thead>\n",
       "    <tr style=\"text-align: right;\">\n",
       "      <th></th>\n",
       "      <th>product_id</th>\n",
       "      <th>id_web</th>\n",
       "      <th>onsale_web</th>\n",
       "      <th>price</th>\n",
       "      <th>stock_quantity</th>\n",
       "      <th>stock_status</th>\n",
       "    </tr>\n",
       "  </thead>\n",
       "  <tbody>\n",
       "    <tr>\n",
       "      <th>0</th>\n",
       "      <td>3847</td>\n",
       "      <td>15298</td>\n",
       "      <td>1</td>\n",
       "      <td>24.2</td>\n",
       "      <td>0</td>\n",
       "      <td>outofstock</td>\n",
       "    </tr>\n",
       "    <tr>\n",
       "      <th>1</th>\n",
       "      <td>3849</td>\n",
       "      <td>15296</td>\n",
       "      <td>1</td>\n",
       "      <td>34.3</td>\n",
       "      <td>0</td>\n",
       "      <td>outofstock</td>\n",
       "    </tr>\n",
       "    <tr>\n",
       "      <th>2</th>\n",
       "      <td>3850</td>\n",
       "      <td>15300</td>\n",
       "      <td>1</td>\n",
       "      <td>20.8</td>\n",
       "      <td>0</td>\n",
       "      <td>outofstock</td>\n",
       "    </tr>\n",
       "    <tr>\n",
       "      <th>3</th>\n",
       "      <td>4032</td>\n",
       "      <td>19814</td>\n",
       "      <td>1</td>\n",
       "      <td>14.1</td>\n",
       "      <td>0</td>\n",
       "      <td>outofstock</td>\n",
       "    </tr>\n",
       "    <tr>\n",
       "      <th>4</th>\n",
       "      <td>4039</td>\n",
       "      <td>19815</td>\n",
       "      <td>1</td>\n",
       "      <td>46.0</td>\n",
       "      <td>0</td>\n",
       "      <td>outofstock</td>\n",
       "    </tr>\n",
       "  </tbody>\n",
       "</table>\n",
       "</div>"
      ],
      "text/plain": [
       "   product_id id_web  onsale_web  price  stock_quantity stock_status\n",
       "0        3847  15298           1   24.2               0   outofstock\n",
       "1        3849  15296           1   34.3               0   outofstock\n",
       "2        3850  15300           1   20.8               0   outofstock\n",
       "3        4032  19814           1   14.1               0   outofstock\n",
       "4        4039  19815           1   46.0               0   outofstock"
      ]
     },
     "execution_count": 10,
     "metadata": {},
     "output_type": "execute_result"
    }
   ],
   "source": [
    "df_erp_liaison = pd.merge(df_liaison.dropna(subset=['id_web']), df_erp, how = \"inner\", on=\"product_id\")\n",
    "print(df_erp_liaison.count())\n",
    "df_erp_liaison.head()"
   ]
  },
  {
   "cell_type": "markdown",
   "metadata": {},
   "source": [
    "ET ON SUPPRIME LES VALEURS EN DOUBLE"
   ]
  },
  {
   "cell_type": "code",
   "execution_count": 11,
   "metadata": {},
   "outputs": [
    {
     "data": {
      "text/html": [
       "<div>\n",
       "<style scoped>\n",
       "    .dataframe tbody tr th:only-of-type {\n",
       "        vertical-align: middle;\n",
       "    }\n",
       "\n",
       "    .dataframe tbody tr th {\n",
       "        vertical-align: top;\n",
       "    }\n",
       "\n",
       "    .dataframe thead th {\n",
       "        text-align: right;\n",
       "    }\n",
       "</style>\n",
       "<table border=\"1\" class=\"dataframe\">\n",
       "  <thead>\n",
       "    <tr style=\"text-align: right;\">\n",
       "      <th></th>\n",
       "      <th>id_web</th>\n",
       "      <th>product_id</th>\n",
       "      <th>post_title</th>\n",
       "      <th>total_sales</th>\n",
       "      <th>onsale_web</th>\n",
       "      <th>price</th>\n",
       "    </tr>\n",
       "  </thead>\n",
       "  <tbody>\n",
       "    <tr>\n",
       "      <th>0</th>\n",
       "      <td>16004</td>\n",
       "      <td>4974</td>\n",
       "      <td>Château du Couvent Pomerol 2017</td>\n",
       "      <td>5.0</td>\n",
       "      <td>1</td>\n",
       "      <td>23.0</td>\n",
       "    </tr>\n",
       "    <tr>\n",
       "      <th>1</th>\n",
       "      <td>15075</td>\n",
       "      <td>4165</td>\n",
       "      <td>Parés Baltà Penedès Indigena 2017</td>\n",
       "      <td>3.0</td>\n",
       "      <td>1</td>\n",
       "      <td>12.0</td>\n",
       "    </tr>\n",
       "    <tr>\n",
       "      <th>2</th>\n",
       "      <td>16209</td>\n",
       "      <td>4174</td>\n",
       "      <td>Maurel Cabardès Tradition 2017</td>\n",
       "      <td>6.0</td>\n",
       "      <td>1</td>\n",
       "      <td>5.7</td>\n",
       "    </tr>\n",
       "    <tr>\n",
       "      <th>3</th>\n",
       "      <td>15763</td>\n",
       "      <td>6635</td>\n",
       "      <td>Domaine de la Monardière Vacqueyras Vieilles V...</td>\n",
       "      <td>1.0</td>\n",
       "      <td>1</td>\n",
       "      <td>22.4</td>\n",
       "    </tr>\n",
       "    <tr>\n",
       "      <th>4</th>\n",
       "      <td>13895</td>\n",
       "      <td>5796</td>\n",
       "      <td>Château Saransot-Dupré Bordeaux Blanc 2016</td>\n",
       "      <td>0.0</td>\n",
       "      <td>1</td>\n",
       "      <td>12.5</td>\n",
       "    </tr>\n",
       "  </tbody>\n",
       "</table>\n",
       "</div>"
      ],
      "text/plain": [
       "  id_web  product_id                                         post_title  \\\n",
       "0  16004        4974                    Château du Couvent Pomerol 2017   \n",
       "1  15075        4165                  Parés Baltà Penedès Indigena 2017   \n",
       "2  16209        4174                     Maurel Cabardès Tradition 2017   \n",
       "3  15763        6635  Domaine de la Monardière Vacqueyras Vieilles V...   \n",
       "4  13895        5796         Château Saransot-Dupré Bordeaux Blanc 2016   \n",
       "\n",
       "   total_sales  onsale_web  price  \n",
       "0          5.0           1   23.0  \n",
       "1          3.0           1   12.0  \n",
       "2          6.0           1    5.7  \n",
       "3          1.0           1   22.4  \n",
       "4          0.0           1   12.5  "
      ]
     },
     "execution_count": 11,
     "metadata": {},
     "output_type": "execute_result"
    }
   ],
   "source": [
    "df_complete = pd.merge(df_web.drop_duplicates(subset='id_web'), df_erp_liaison, how = \"inner\", on=\"id_web\")\n",
    "df_complete = df_complete[['id_web', 'product_id', 'post_title', 'total_sales', 'onsale_web', 'price']]\n",
    "df_complete.head()"
   ]
  },
  {
   "cell_type": "markdown",
   "metadata": {},
   "source": [
    "VERIFICATION SI IL EXISTE ENCORE DES DOUBLONS"
   ]
  },
  {
   "cell_type": "code",
   "execution_count": 12,
   "metadata": {},
   "outputs": [
    {
     "name": "stdout",
     "output_type": "stream",
     "text": [
      "[]\n",
      "[]\n"
     ]
    }
   ],
   "source": [
    "valeurs_en_double = df_complete[df_complete.duplicated('product_id', keep=False)]\n",
    "print(valeurs_en_double['product_id'].unique())\n",
    "valeurs_en_double = df_complete[df_complete.duplicated('id_web', keep=False)]\n",
    "print(valeurs_en_double['id_web'].unique())"
   ]
  },
  {
   "cell_type": "markdown",
   "metadata": {},
   "source": [
    "CHIFFRE D'AFFAIRE PAR PRODUIT"
   ]
  },
  {
   "cell_type": "code",
   "execution_count": 13,
   "metadata": {},
   "outputs": [
    {
     "name": "stdout",
     "output_type": "stream",
     "text": [
      "                                            post_title  chiffre_affaire\n",
      "32               Agnès Levet Côte Rôtie Améthyste 2017            164.8\n",
      "198               Agnès Levet Côte Rôtie Maestria 2017            165.0\n",
      "88                Agnès Levet Côte Rôtie Péroline 2017            171.0\n",
      "331         Alain Graillot Crozes-Hermitage Blanc 2018            244.0\n",
      "581         Alain Graillot Crozes-Hermitage Rouge 2017            146.4\n",
      "..                                                 ...              ...\n",
      "30       Zind-Humbrecht Pinot Gris Roche Calcaire 2017              0.0\n",
      "193        Zind-Humbrecht Riesling Clos Windsbuhl 2014              0.0\n",
      "31   Zind-Humbrecht Riesling Grand Cru Rangen De Th...              0.0\n",
      "604  Zind-Humbrecht Riesling Herrenweg de Turckheim...             63.4\n",
      "531                           Zind-Humbrecht Zind 2017            154.2\n",
      "\n",
      "[714 rows x 2 columns]\n"
     ]
    }
   ],
   "source": [
    "df_CA_produit = df_complete.copy()\n",
    "df_CA_produit['chiffre_affaire'] = df_CA_produit['total_sales'] * df_CA_produit['price']\n",
    "print(df_CA_produit[['post_title', 'chiffre_affaire']].sort_values(by='post_title'))"
   ]
  },
  {
   "cell_type": "markdown",
   "metadata": {},
   "source": [
    "CHIFFRE D'AFFAIRE REALISE EN LIGNE"
   ]
  },
  {
   "cell_type": "code",
   "execution_count": 14,
   "metadata": {},
   "outputs": [
    {
     "name": "stdout",
     "output_type": "stream",
     "text": [
      "Le chiffre d'affaire total est de : 65652.6 €\n"
     ]
    }
   ],
   "source": [
    "total_CA = df_CA_produit['chiffre_affaire'].sum()\n",
    "print(\"Le chiffre d'affaire total est de :\",total_CA,\"€\")"
   ]
  },
  {
   "cell_type": "code",
   "execution_count": 15,
   "metadata": {},
   "outputs": [
    {
     "name": "stdout",
     "output_type": "stream",
     "text": [
      "Le chiffre d'affaire total fait en ligne est de : 65652.6 €\n",
      "714\n",
      "[1]\n"
     ]
    }
   ],
   "source": [
    "online_CA = df_CA_produit['chiffre_affaire'].loc[df_CA_produit['onsale_web'] == 1].sum()\n",
    "print(\"Le chiffre d'affaire total fait en ligne est de :\",online_CA,\"€\")\n",
    "print(len(df_CA_produit['chiffre_affaire'].loc[df_CA_produit['onsale_web'] == 1]))\n",
    "print(df_complete['onsale_web'].unique())"
   ]
  },
  {
   "cell_type": "markdown",
   "metadata": {},
   "source": [
    "ANALYSE DES VALEURS ABERANTES"
   ]
  },
  {
   "cell_type": "code",
   "execution_count": 16,
   "metadata": {},
   "outputs": [
    {
     "data": {
      "text/plain": [
       "count    714.000000\n",
       "mean      32.493137\n",
       "std       27.810525\n",
       "min        5.200000\n",
       "25%       14.100000\n",
       "50%       23.550000\n",
       "75%       42.175000\n",
       "max      225.000000\n",
       "Name: price, dtype: float64"
      ]
     },
     "execution_count": 16,
     "metadata": {},
     "output_type": "execute_result"
    }
   ],
   "source": [
    "df_complete['price'].describe()"
   ]
  },
  {
   "cell_type": "code",
   "execution_count": 17,
   "metadata": {},
   "outputs": [
    {
     "data": {
      "image/png": "[encoded data removed]",
      "text/plain": [
       "<Figure size 1000x500 with 1 Axes>"
      ]
     },
     "metadata": {},
     "output_type": "display_data"
    }
   ],
   "source": [
    "price_mean = df_complete['price'].mean()\n",
    "vente_mean = df_complete['total_sales'].mean()\n",
    "plt.figure(figsize=(10, 5))\n",
    "plt.hist(df_complete['price'], bins=80, edgecolor='black', linewidth=0.5)\n",
    "plt.axvline(price_mean, color='red', linestyle=(0, (5, 5)), label='Moyenne des prix')\n",
    "plt.xlabel('Prix en euro (€)')\n",
    "plt.legend()\n",
    "plt.title('Représentation des prix de vente')\n",
    "plt.show()\n"
   ]
  },
  {
   "cell_type": "code",
   "execution_count": 18,
   "metadata": {},
   "outputs": [
    {
     "name": "stderr",
     "output_type": "stream",
     "text": [
      "No artists with labels found to put in legend.  Note that artists whose label start with an underscore are ignored when legend() is called with no argument.\n"
     ]
    },
    {
     "data": {
      "image/png": "[encoded data removed]",
      "text/plain": [
       "<Figure size 640x480 with 1 Axes>"
      ]
     },
     "metadata": {},
     "output_type": "display_data"
    }
   ],
   "source": [
    "plt.scatter(df_complete['price'], df_complete['total_sales'], marker=\"o\", color = 'green', s= 5)\n",
    "plt.title('Représentation du prix de vente en fonction du nombre de vente')\n",
    "plt.xlabel('Prix en euro (€)')\n",
    "plt.ylabel('Nombre de vente')\n",
    "plt.legend()\n",
    "plt.show()"
   ]
  },
  {
   "cell_type": "code",
   "execution_count": 19,
   "metadata": {},
   "outputs": [
    {
     "data": {
      "image/png": "[encoded data removed]",
      "text/plain": [
       "<Figure size 1000x800 with 2 Axes>"
      ]
     },
     "metadata": {},
     "output_type": "display_data"
    }
   ],
   "source": [
    "plt.figure(figsize=(10, 8))\n",
    "plt.subplot(1, 2, 1)  # 1 ligne, 2 colonnes, premier graphique\n",
    "plt.boxplot(df_complete['price'])\n",
    "plt.axhline(price_mean, color='red', linestyle=(0, (5, 5)), label='Moyenne des prix')\n",
    "plt.ylabel('Prix en euro (€)')\n",
    "plt.title('Représentation des prix de vente')\n",
    "plt.legend()\n",
    "\n",
    "plt.subplot(1, 2, 2)  # 1 ligne, 2 colonnes, premier graphique\n",
    "plt.boxplot(df_complete['total_sales'])\n",
    "plt.axhline(vente_mean, color='red', linestyle=(0, (5, 5)), label='Moyenne du nombre de vente')\n",
    "plt.ylabel('Nombre de vente')\n",
    "plt.title('Représentation du nombre de vente')\n",
    "plt.legend()\n",
    "\n",
    "# Ajuster l'espacement entre les graphiques\n",
    "plt.tight_layout()\n",
    "plt.show()"
   ]
  },
  {
   "cell_type": "markdown",
   "metadata": {},
   "source": [
    "LISTE DE OUTLIERS AVEC LA METHODE IQR"
   ]
  },
  {
   "cell_type": "code",
   "execution_count": 20,
   "metadata": {},
   "outputs": [
    {
     "name": "stdout",
     "output_type": "stream",
     "text": [
      "-28.013 84.288\n",
      "nombre outliers : 32\n"
     ]
    },
    {
     "data": {
      "text/html": [
       "<div>\n",
       "<style scoped>\n",
       "    .dataframe tbody tr th:only-of-type {\n",
       "        vertical-align: middle;\n",
       "    }\n",
       "\n",
       "    .dataframe tbody tr th {\n",
       "        vertical-align: top;\n",
       "    }\n",
       "\n",
       "    .dataframe thead th {\n",
       "        text-align: right;\n",
       "    }\n",
       "</style>\n",
       "<table border=\"1\" class=\"dataframe\">\n",
       "  <thead>\n",
       "    <tr style=\"text-align: right;\">\n",
       "      <th></th>\n",
       "      <th>id_web</th>\n",
       "      <th>product_id</th>\n",
       "      <th>post_title</th>\n",
       "      <th>total_sales</th>\n",
       "      <th>onsale_web</th>\n",
       "      <th>price</th>\n",
       "    </tr>\n",
       "  </thead>\n",
       "  <tbody>\n",
       "    <tr>\n",
       "      <th>5</th>\n",
       "      <td>12857</td>\n",
       "      <td>4582</td>\n",
       "      <td>Château de Meursault Puligny-Montrachet 1er Cr...</td>\n",
       "      <td>0.0</td>\n",
       "      <td>1</td>\n",
       "      <td>109.6</td>\n",
       "    </tr>\n",
       "    <tr>\n",
       "      <th>9</th>\n",
       "      <td>13996</td>\n",
       "      <td>6212</td>\n",
       "      <td>Domaine des Comtes Lafon Volnay 1er Cru Santen...</td>\n",
       "      <td>2.0</td>\n",
       "      <td>1</td>\n",
       "      <td>115.0</td>\n",
       "    </tr>\n",
       "    <tr>\n",
       "      <th>23</th>\n",
       "      <td>13913</td>\n",
       "      <td>5026</td>\n",
       "      <td>Champagne Agrapart &amp;amp; Fils Minéral Extra Br...</td>\n",
       "      <td>0.0</td>\n",
       "      <td>1</td>\n",
       "      <td>86.8</td>\n",
       "    </tr>\n",
       "    <tr>\n",
       "      <th>31</th>\n",
       "      <td>15382</td>\n",
       "      <td>4115</td>\n",
       "      <td>Zind-Humbrecht Riesling Grand Cru Rangen De Th...</td>\n",
       "      <td>0.0</td>\n",
       "      <td>1</td>\n",
       "      <td>100.0</td>\n",
       "    </tr>\n",
       "    <tr>\n",
       "      <th>52</th>\n",
       "      <td>15070</td>\n",
       "      <td>6216</td>\n",
       "      <td>Domaine des Comtes Lafon Volnay 1er Cru Champa...</td>\n",
       "      <td>0.0</td>\n",
       "      <td>1</td>\n",
       "      <td>121.0</td>\n",
       "    </tr>\n",
       "    <tr>\n",
       "      <th>56</th>\n",
       "      <td>11602</td>\n",
       "      <td>5008</td>\n",
       "      <td>Domaine des Comtes Lafon Volnay 1er Cru Santen...</td>\n",
       "      <td>0.0</td>\n",
       "      <td>1</td>\n",
       "      <td>105.0</td>\n",
       "    </tr>\n",
       "    <tr>\n",
       "      <th>72</th>\n",
       "      <td>14805</td>\n",
       "      <td>4903</td>\n",
       "      <td>Domaine Des Croix Corton Grand Cru Les Grèves ...</td>\n",
       "      <td>0.0</td>\n",
       "      <td>1</td>\n",
       "      <td>102.3</td>\n",
       "    </tr>\n",
       "    <tr>\n",
       "      <th>144</th>\n",
       "      <td>11668</td>\n",
       "      <td>4132</td>\n",
       "      <td>Zind-Humbrecht Pinot Gris Grand Cru Rangen De ...</td>\n",
       "      <td>0.0</td>\n",
       "      <td>1</td>\n",
       "      <td>88.4</td>\n",
       "    </tr>\n",
       "    <tr>\n",
       "      <th>179</th>\n",
       "      <td>12791</td>\n",
       "      <td>5007</td>\n",
       "      <td>Domaine des Comtes Lafon Volnay 1er Cru Santen...</td>\n",
       "      <td>0.0</td>\n",
       "      <td>1</td>\n",
       "      <td>105.0</td>\n",
       "    </tr>\n",
       "    <tr>\n",
       "      <th>210</th>\n",
       "      <td>11601</td>\n",
       "      <td>6214</td>\n",
       "      <td>Domaine des Comtes Lafon Volnay 1er Cru Champa...</td>\n",
       "      <td>0.0</td>\n",
       "      <td>1</td>\n",
       "      <td>99.0</td>\n",
       "    </tr>\n",
       "    <tr>\n",
       "      <th>213</th>\n",
       "      <td>3509</td>\n",
       "      <td>4407</td>\n",
       "      <td>Cognac Frapin Cigar Blend</td>\n",
       "      <td>1.0</td>\n",
       "      <td>1</td>\n",
       "      <td>104.0</td>\n",
       "    </tr>\n",
       "    <tr>\n",
       "      <th>264</th>\n",
       "      <td>14581</td>\n",
       "      <td>5001</td>\n",
       "      <td>David Duband Charmes-Chambertin Grand Cru 2014</td>\n",
       "      <td>0.0</td>\n",
       "      <td>1</td>\n",
       "      <td>217.5</td>\n",
       "    </tr>\n",
       "    <tr>\n",
       "      <th>265</th>\n",
       "      <td>13914</td>\n",
       "      <td>5025</td>\n",
       "      <td>Champagne Agrapart &amp;amp; Fils L'Avizoise Extra...</td>\n",
       "      <td>0.0</td>\n",
       "      <td>1</td>\n",
       "      <td>112.0</td>\n",
       "    </tr>\n",
       "    <tr>\n",
       "      <th>306</th>\n",
       "      <td>15185</td>\n",
       "      <td>5767</td>\n",
       "      <td>Camille Giroud Clos de Vougeot 2016</td>\n",
       "      <td>0.0</td>\n",
       "      <td>1</td>\n",
       "      <td>175.0</td>\n",
       "    </tr>\n",
       "    <tr>\n",
       "      <th>310</th>\n",
       "      <td>14915</td>\n",
       "      <td>5612</td>\n",
       "      <td>Domaine Weinbach Gewurztraminer Grand Cru Furs...</td>\n",
       "      <td>0.0</td>\n",
       "      <td>1</td>\n",
       "      <td>124.8</td>\n",
       "    </tr>\n",
       "    <tr>\n",
       "      <th>319</th>\n",
       "      <td>3510</td>\n",
       "      <td>4402</td>\n",
       "      <td>Cognac Frapin VIP XO</td>\n",
       "      <td>13.0</td>\n",
       "      <td>1</td>\n",
       "      <td>176.0</td>\n",
       "    </tr>\n",
       "    <tr>\n",
       "      <th>364</th>\n",
       "      <td>19822</td>\n",
       "      <td>5565</td>\n",
       "      <td>Tempier Bandol Cabassaou 2017</td>\n",
       "      <td>0.0</td>\n",
       "      <td>1</td>\n",
       "      <td>92.0</td>\n",
       "    </tr>\n",
       "    <tr>\n",
       "      <th>382</th>\n",
       "      <td>14220</td>\n",
       "      <td>4904</td>\n",
       "      <td>Domaine Des Croix Corton Charlemagne Grand Cru...</td>\n",
       "      <td>5.0</td>\n",
       "      <td>1</td>\n",
       "      <td>137.0</td>\n",
       "    </tr>\n",
       "    <tr>\n",
       "      <th>383</th>\n",
       "      <td>7819</td>\n",
       "      <td>4406</td>\n",
       "      <td>Cognac Frapin Château de Fontpinot 1989 20 Ans...</td>\n",
       "      <td>0.0</td>\n",
       "      <td>1</td>\n",
       "      <td>157.0</td>\n",
       "    </tr>\n",
       "    <tr>\n",
       "      <th>388</th>\n",
       "      <td>14775</td>\n",
       "      <td>5917</td>\n",
       "      <td>Wemyss Malts Single Cask Scotch Whisky Choc 'n...</td>\n",
       "      <td>0.0</td>\n",
       "      <td>1</td>\n",
       "      <td>122.0</td>\n",
       "    </tr>\n",
       "    <tr>\n",
       "      <th>408</th>\n",
       "      <td>14774</td>\n",
       "      <td>5916</td>\n",
       "      <td>Wemyss Malts Single Cask Scotch Whisky Chocola...</td>\n",
       "      <td>0.0</td>\n",
       "      <td>1</td>\n",
       "      <td>93.0</td>\n",
       "    </tr>\n",
       "    <tr>\n",
       "      <th>439</th>\n",
       "      <td>14596</td>\n",
       "      <td>6201</td>\n",
       "      <td>David Duband Chambolle-Musigny 1er Cru Les Sen...</td>\n",
       "      <td>0.0</td>\n",
       "      <td>1</td>\n",
       "      <td>105.6</td>\n",
       "    </tr>\n",
       "    <tr>\n",
       "      <th>457</th>\n",
       "      <td>13853</td>\n",
       "      <td>4359</td>\n",
       "      <td>Champagne Larmandier-Bernier Grand Cru Les Che...</td>\n",
       "      <td>1.0</td>\n",
       "      <td>1</td>\n",
       "      <td>85.6</td>\n",
       "    </tr>\n",
       "    <tr>\n",
       "      <th>480</th>\n",
       "      <td>14773</td>\n",
       "      <td>5918</td>\n",
       "      <td>Wemyss Malts Single Cask Scotch Whisky Chai Ca...</td>\n",
       "      <td>0.0</td>\n",
       "      <td>1</td>\n",
       "      <td>114.0</td>\n",
       "    </tr>\n",
       "    <tr>\n",
       "      <th>488</th>\n",
       "      <td>15072</td>\n",
       "      <td>6213</td>\n",
       "      <td>Domaine des Comtes Lafon Volnay 1er Cru Santen...</td>\n",
       "      <td>0.0</td>\n",
       "      <td>1</td>\n",
       "      <td>121.0</td>\n",
       "    </tr>\n",
       "    <tr>\n",
       "      <th>557</th>\n",
       "      <td>12790</td>\n",
       "      <td>6215</td>\n",
       "      <td>Domaine des Comtes Lafon Volnay 1er Cru Champa...</td>\n",
       "      <td>0.0</td>\n",
       "      <td>1</td>\n",
       "      <td>115.0</td>\n",
       "    </tr>\n",
       "    <tr>\n",
       "      <th>568</th>\n",
       "      <td>15126</td>\n",
       "      <td>6202</td>\n",
       "      <td>Domaine Clerget Echezeaux Grand Cru En Orveaux...</td>\n",
       "      <td>0.0</td>\n",
       "      <td>1</td>\n",
       "      <td>116.4</td>\n",
       "    </tr>\n",
       "    <tr>\n",
       "      <th>656</th>\n",
       "      <td>12589</td>\n",
       "      <td>4355</td>\n",
       "      <td>Champagne Egly-Ouriet Grand Cru Blanc de Noirs</td>\n",
       "      <td>11.0</td>\n",
       "      <td>1</td>\n",
       "      <td>126.5</td>\n",
       "    </tr>\n",
       "    <tr>\n",
       "      <th>678</th>\n",
       "      <td>14983</td>\n",
       "      <td>5892</td>\n",
       "      <td>Coteaux Champenois Egly-Ouriet Ambonnay Rouge ...</td>\n",
       "      <td>3.0</td>\n",
       "      <td>1</td>\n",
       "      <td>191.3</td>\n",
       "    </tr>\n",
       "    <tr>\n",
       "      <th>682</th>\n",
       "      <td>14923</td>\n",
       "      <td>6126</td>\n",
       "      <td>Champagne Gosset Célébris Vintage 2007</td>\n",
       "      <td>2.0</td>\n",
       "      <td>1</td>\n",
       "      <td>135.0</td>\n",
       "    </tr>\n",
       "    <tr>\n",
       "      <th>686</th>\n",
       "      <td>3507</td>\n",
       "      <td>4404</td>\n",
       "      <td>Cognac Frapin Château de Fontpinot XO</td>\n",
       "      <td>2.0</td>\n",
       "      <td>1</td>\n",
       "      <td>108.5</td>\n",
       "    </tr>\n",
       "    <tr>\n",
       "      <th>701</th>\n",
       "      <td>15940</td>\n",
       "      <td>4352</td>\n",
       "      <td>Champagne Egly-Ouriet Grand Cru Millésimé 2008</td>\n",
       "      <td>5.0</td>\n",
       "      <td>1</td>\n",
       "      <td>225.0</td>\n",
       "    </tr>\n",
       "  </tbody>\n",
       "</table>\n",
       "</div>"
      ],
      "text/plain": [
       "    id_web  product_id                                         post_title  \\\n",
       "5    12857        4582  Château de Meursault Puligny-Montrachet 1er Cr...   \n",
       "9    13996        6212  Domaine des Comtes Lafon Volnay 1er Cru Santen...   \n",
       "23   13913        5026  Champagne Agrapart &amp; Fils Minéral Extra Br...   \n",
       "31   15382        4115  Zind-Humbrecht Riesling Grand Cru Rangen De Th...   \n",
       "52   15070        6216  Domaine des Comtes Lafon Volnay 1er Cru Champa...   \n",
       "56   11602        5008  Domaine des Comtes Lafon Volnay 1er Cru Santen...   \n",
       "72   14805        4903  Domaine Des Croix Corton Grand Cru Les Grèves ...   \n",
       "144  11668        4132  Zind-Humbrecht Pinot Gris Grand Cru Rangen De ...   \n",
       "179  12791        5007  Domaine des Comtes Lafon Volnay 1er Cru Santen...   \n",
       "210  11601        6214  Domaine des Comtes Lafon Volnay 1er Cru Champa...   \n",
       "213   3509        4407                          Cognac Frapin Cigar Blend   \n",
       "264  14581        5001     David Duband Charmes-Chambertin Grand Cru 2014   \n",
       "265  13914        5025  Champagne Agrapart &amp; Fils L'Avizoise Extra...   \n",
       "306  15185        5767                Camille Giroud Clos de Vougeot 2016   \n",
       "310  14915        5612  Domaine Weinbach Gewurztraminer Grand Cru Furs...   \n",
       "319   3510        4402                               Cognac Frapin VIP XO   \n",
       "364  19822        5565                      Tempier Bandol Cabassaou 2017   \n",
       "382  14220        4904  Domaine Des Croix Corton Charlemagne Grand Cru...   \n",
       "383   7819        4406  Cognac Frapin Château de Fontpinot 1989 20 Ans...   \n",
       "388  14775        5917  Wemyss Malts Single Cask Scotch Whisky Choc 'n...   \n",
       "408  14774        5916  Wemyss Malts Single Cask Scotch Whisky Chocola...   \n",
       "439  14596        6201  David Duband Chambolle-Musigny 1er Cru Les Sen...   \n",
       "457  13853        4359  Champagne Larmandier-Bernier Grand Cru Les Che...   \n",
       "480  14773        5918  Wemyss Malts Single Cask Scotch Whisky Chai Ca...   \n",
       "488  15072        6213  Domaine des Comtes Lafon Volnay 1er Cru Santen...   \n",
       "557  12790        6215  Domaine des Comtes Lafon Volnay 1er Cru Champa...   \n",
       "568  15126        6202  Domaine Clerget Echezeaux Grand Cru En Orveaux...   \n",
       "656  12589        4355     Champagne Egly-Ouriet Grand Cru Blanc de Noirs   \n",
       "678  14983        5892  Coteaux Champenois Egly-Ouriet Ambonnay Rouge ...   \n",
       "682  14923        6126             Champagne Gosset Célébris Vintage 2007   \n",
       "686   3507        4404              Cognac Frapin Château de Fontpinot XO   \n",
       "701  15940        4352     Champagne Egly-Ouriet Grand Cru Millésimé 2008   \n",
       "\n",
       "     total_sales  onsale_web  price  \n",
       "5            0.0           1  109.6  \n",
       "9            2.0           1  115.0  \n",
       "23           0.0           1   86.8  \n",
       "31           0.0           1  100.0  \n",
       "52           0.0           1  121.0  \n",
       "56           0.0           1  105.0  \n",
       "72           0.0           1  102.3  \n",
       "144          0.0           1   88.4  \n",
       "179          0.0           1  105.0  \n",
       "210          0.0           1   99.0  \n",
       "213          1.0           1  104.0  \n",
       "264          0.0           1  217.5  \n",
       "265          0.0           1  112.0  \n",
       "306          0.0           1  175.0  \n",
       "310          0.0           1  124.8  \n",
       "319         13.0           1  176.0  \n",
       "364          0.0           1   92.0  \n",
       "382          5.0           1  137.0  \n",
       "383          0.0           1  157.0  \n",
       "388          0.0           1  122.0  \n",
       "408          0.0           1   93.0  \n",
       "439          0.0           1  105.6  \n",
       "457          1.0           1   85.6  \n",
       "480          0.0           1  114.0  \n",
       "488          0.0           1  121.0  \n",
       "557          0.0           1  115.0  \n",
       "568          0.0           1  116.4  \n",
       "656         11.0           1  126.5  \n",
       "678          3.0           1  191.3  \n",
       "682          2.0           1  135.0  \n",
       "686          2.0           1  108.5  \n",
       "701          5.0           1  225.0  "
      ]
     },
     "execution_count": 20,
     "metadata": {},
     "output_type": "execute_result"
    }
   ],
   "source": [
    "Q1 = np.percentile(df_complete['price'], 25)\n",
    "Q3 = np.percentile(df_complete['price'], 75)\n",
    "iQR = Q3 - Q1\n",
    "lower_bound = round(Q1 - 1.5 * iQR, 3)\n",
    "upper_bound = round(Q3 + 1.5 * iQR, 3)\n",
    "print(lower_bound, upper_bound)\n",
    "outliers = df_complete[(df_complete['price'] < lower_bound) | (df_complete['price'] > upper_bound)]\n",
    "print('nombre outliers :', len(outliers))\n",
    "outliers.head(len(outliers))"
   ]
  },
  {
   "cell_type": "markdown",
   "metadata": {},
   "source": [
    "Incohérence dans les données :\n",
    "- Valeurs en double\n",
    "- id_web mal nommée\n",
    "- Chiffre d'affaire en ligne identique ou chiffre d'affaire total\n",
    "- Une liste de 32 outliers\n",
    "- id_web étrange comme 'bon-cadeau-25-euros' ou 13127-1 ou 14680-1\n"
   ]
  },
  {
   "cell_type": "markdown",
   "metadata": {},
   "source": [
    "représenter graphiquement les outliers, ajouter méthode z-score, courbe de lorenz, détailler un poil plus le dataframe\n",
    "nouvelle incohérence : il y a pas le même nombre nombre d'id entre product_id et id_web je crois"
   ]
  }
 ],
 "metadata": {
  "kernelspec": {
   "display_name": "Python 3.10.9 64-bit ('anaconda3')",
   "language": "python",
   "name": "python3"
  },
  "language_info": {
   "codemirror_mode": {
    "name": "ipython",
    "version": 3
   },
   "file_extension": ".py",
   "mimetype": "text/x-python",
   "name": "python",
   "nbconvert_exporter": "python",
   "pygments_lexer": "ipython3",
   "version": "3.10.9"
  },
  "orig_nbformat": 4,
  "vscode": {
   "interpreter": {
    "hash": "49cb93f377a7abe7414b7b0f21fb3017538004a126cf690fb524202736b7fb92"
   }
  }
 },
 "nbformat": 4,
 "nbformat_minor": 2
}
